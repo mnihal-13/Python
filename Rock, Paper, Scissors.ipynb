{
 "cells": [
  {
   "cell_type": "code",
   "execution_count": 7,
   "id": "dda04425",
   "metadata": {},
   "outputs": [
    {
     "name": "stdout",
     "output_type": "stream",
     "text": [
      "\n",
      "Welcome To Rock-Paper-Scissors\n",
      "\n",
      "\u001b[1mHere The Rules :\u001b[0m\n",
      "> Rock wins against Scissors\n",
      "> Scissors wins against Paper\n",
      "> Paper wins against Rock\n",
      "> You can enter 0 - 2 to choose \n",
      "    > 0 for Rock \n",
      "    > 1 for Paper\n",
      "    > 2 for Scissor \n",
      "    \n",
      "~>\u001b[1mLet's Start The Game\u001b[0m<~ \n",
      "\n",
      "Enter Your Choice\n",
      "0-Rock\n",
      "1-Paper\n",
      "2-Scissor\n",
      "0\n",
      "Computer Choose: 2\n",
      "You Win!!\n"
     ]
    }
   ],
   "source": [
    "import random\n",
    "\n",
    "instruction = \"\"\"\n",
    "Welcome To Rock-Paper-Scissors\n",
    "\n",
    "\\033[1mHere The Rules :\\033[0m\n",
    "> Rock wins against Scissors\n",
    "> Scissors wins against Paper\n",
    "> Paper wins against Rock\n",
    "> You can enter 0 - 2 to choose \n",
    "    > 0 for Rock \n",
    "    > 1 for Paper\n",
    "    > 2 for Scissor \n",
    "    \n",
    "~>\\033[1mLet's Start The Game\\033[0m<~ \n",
    "\"\"\"\n",
    "\n",
    "print(instruction)\n",
    "user = int(input(\"Enter Your Choice\\n0-Rock\\n1-Paper\\n2-Scissor\\n\"))\n",
    "\n",
    "if user >= 3 or user < 0:\n",
    "    print(\"You entered invalid number.You Lose!!\")\n",
    "else:\n",
    "    comp = random.randint(0, 2)\n",
    "    print(f\"Computer Choose: {comp}\")\n",
    "\n",
    "    if user == comp:\n",
    "        print(\"It's a Draw!!\")\n",
    "    elif comp == 0 and user == 2:\n",
    "        print(\"You Lose!!\")\n",
    "    elif user == 0 and comp == 2:\n",
    "        print(\"You Win!!\")\n",
    "    elif comp > user:\n",
    "        print(\"You Lose!!\")\n",
    "    elif user > comp:\n",
    "        print(\"You Win!!\")\n"
   ]
  }
 ],
 "metadata": {
  "kernelspec": {
   "display_name": "Python 3 (ipykernel)",
   "language": "python",
   "name": "python3"
  },
  "language_info": {
   "codemirror_mode": {
    "name": "ipython",
    "version": 3
   },
   "file_extension": ".py",
   "mimetype": "text/x-python",
   "name": "python",
   "nbconvert_exporter": "python",
   "pygments_lexer": "ipython3",
   "version": "3.11.3"
  }
 },
 "nbformat": 4,
 "nbformat_minor": 5
}
